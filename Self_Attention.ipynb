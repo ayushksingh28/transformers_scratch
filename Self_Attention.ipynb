{
  "nbformat": 4,
  "nbformat_minor": 0,
  "metadata": {
    "colab": {
      "provenance": [],
      "machine_shape": "hm",
      "gpuType": "A100",
      "authorship_tag": "ABX9TyMJs/BpE98IrnKKt9AIuAIi",
      "include_colab_link": true
    },
    "kernelspec": {
      "name": "python3",
      "display_name": "Python 3"
    },
    "language_info": {
      "name": "python"
    },
    "accelerator": "GPU"
  },
  "cells": [
    {
      "cell_type": "markdown",
      "metadata": {
        "id": "view-in-github",
        "colab_type": "text"
      },
      "source": [
        "<a href=\"https://colab.research.google.com/github/ayushksingh28/transformers_scratch/blob/main/Self_Attention.ipynb\" target=\"_parent\"><img src=\"https://colab.research.google.com/assets/colab-badge.svg\" alt=\"Open In Colab\"/></a>"
      ]
    },
    {
      "cell_type": "code",
      "source": [
        "!pip install torch"
      ],
      "metadata": {
        "colab": {
          "base_uri": "https://localhost:8080/"
        },
        "id": "f3FbyVCUimKI",
        "outputId": "4542fd1c-55f5-4518-e3be-53220aa8f58e"
      },
      "execution_count": 21,
      "outputs": [
        {
          "output_type": "stream",
          "name": "stdout",
          "text": [
            "Requirement already satisfied: torch in /usr/local/lib/python3.10/dist-packages (2.0.1+cu118)\n",
            "Requirement already satisfied: filelock in /usr/local/lib/python3.10/dist-packages (from torch) (3.12.2)\n",
            "Requirement already satisfied: typing-extensions in /usr/local/lib/python3.10/dist-packages (from torch) (4.5.0)\n",
            "Requirement already satisfied: sympy in /usr/local/lib/python3.10/dist-packages (from torch) (1.12)\n",
            "Requirement already satisfied: networkx in /usr/local/lib/python3.10/dist-packages (from torch) (3.1)\n",
            "Requirement already satisfied: jinja2 in /usr/local/lib/python3.10/dist-packages (from torch) (3.1.2)\n",
            "Requirement already satisfied: triton==2.0.0 in /usr/local/lib/python3.10/dist-packages (from torch) (2.0.0)\n",
            "Requirement already satisfied: cmake in /usr/local/lib/python3.10/dist-packages (from triton==2.0.0->torch) (3.27.4.1)\n",
            "Requirement already satisfied: lit in /usr/local/lib/python3.10/dist-packages (from triton==2.0.0->torch) (16.0.6)\n",
            "Requirement already satisfied: MarkupSafe>=2.0 in /usr/local/lib/python3.10/dist-packages (from jinja2->torch) (2.1.3)\n",
            "Requirement already satisfied: mpmath>=0.19 in /usr/local/lib/python3.10/dist-packages (from sympy->torch) (1.3.0)\n"
          ]
        }
      ]
    },
    {
      "cell_type": "code",
      "source": [
        "import torch\n",
        "\n",
        "if torch.cuda.is_available():\n",
        "    device = torch.device(\"cuda\")\n",
        "    print(f\"Pytorch version: {torch.__version__}\")\n",
        "    print(f\"Device name: {torch.cuda.get_device_name(0)}\")\n",
        "else:\n",
        "    device = torch.device(\"cpu\")\n",
        "    print(\"No GPU available.\")"
      ],
      "metadata": {
        "colab": {
          "base_uri": "https://localhost:8080/"
        },
        "id": "1v_5j_nwipsO",
        "outputId": "3a04d0d0-d237-435e-a2f2-675b5accc8c8"
      },
      "execution_count": 22,
      "outputs": [
        {
          "output_type": "stream",
          "name": "stdout",
          "text": [
            "Pytorch version: 2.0.1+cu118\n",
            "Device name: NVIDIA A100-SXM4-40GB\n"
          ]
        }
      ]
    },
    {
      "cell_type": "code",
      "execution_count": 23,
      "metadata": {
        "id": "OYUUARedhfVt"
      },
      "outputs": [],
      "source": [
        "import numpy as np\n",
        "import math"
      ]
    },
    {
      "cell_type": "code",
      "source": [
        "L, d_v, d_k = 4, 8, 8\n",
        "q = np.random.randn(L, d_k)\n",
        "k = np.random.randn(L, d_k)\n",
        "v = np.random.randn(L, d_v)\n"
      ],
      "metadata": {
        "id": "hQPWz__HhvSs"
      },
      "execution_count": 24,
      "outputs": []
    },
    {
      "cell_type": "code",
      "source": [
        "print(\"Q/n\", q)\n",
        "print(\"K/n\", k)\n",
        "print(\"V/n\", v)"
      ],
      "metadata": {
        "colab": {
          "base_uri": "https://localhost:8080/"
        },
        "id": "dos8JaNWjsRD",
        "outputId": "ff463a8c-ef84-4e73-9f5a-3af5bea96804"
      },
      "execution_count": 25,
      "outputs": [
        {
          "output_type": "stream",
          "name": "stdout",
          "text": [
            "Q/n [[-0.0331857   2.06896505 -0.11488886  0.88116544  0.11719453  1.33834359\n",
            "   0.02257637  1.16781053]\n",
            " [-0.30329635 -1.07928697  1.37743666 -0.42731295 -1.63323351  0.42569583\n",
            "   0.80718759 -0.41248306]\n",
            " [-0.46543505  0.29416147  0.67930279  0.54110615 -1.52135385 -0.00423845\n",
            "  -0.7653162   1.35744534]\n",
            " [-1.01328392 -0.11631818  0.14606273 -0.53768603  0.9199883  -1.29632442\n",
            "   0.83848266  1.2300858 ]]\n",
            "K/n [[-1.74445624e+00  5.01438036e-01  1.37156200e+00  1.18732476e+00\n",
            "  -1.24336869e+00  1.82895126e+00 -1.43497565e+00 -8.26174852e-01]\n",
            " [-7.63499000e-01  1.32199944e-01 -1.41747891e+00 -6.90487346e-01\n",
            "  -7.74263859e-02  8.61092061e-01 -5.22362621e-01 -4.23884940e-01]\n",
            " [-6.48913917e-01  1.02524546e+00 -1.29468132e+00  2.14224226e-01\n",
            "  -1.05157958e+00 -2.20927995e+00  8.34204911e-01  1.64175674e+00]\n",
            " [ 8.47225239e-02 -2.01615668e-03  3.97779898e-01  3.03064464e-01\n",
            "   1.72678590e-01 -8.16785022e-01 -2.02026247e-01  1.15189116e+00]]\n",
            "V/n [[-1.21830369 -1.9244519  -0.17813956  0.1238206   0.99814184  0.43866518\n",
            "   0.023729   -0.67082976]\n",
            " [ 0.55162491 -0.28723073  0.71980635  0.33666532  0.19828825 -1.50666192\n",
            "  -0.17710069  0.92625059]\n",
            " [-0.69566188 -0.43162938 -0.23929193  0.37141007  0.65533725  0.29594258\n",
            "   1.6925799  -2.18067921]\n",
            " [-0.54915374 -1.65992012  0.92577837 -1.48823415  0.45832411  0.48765926\n",
            "   1.64455891  1.67207951]]\n"
          ]
        }
      ]
    },
    {
      "cell_type": "markdown",
      "source": [
        "#Self Attention"
      ],
      "metadata": {
        "id": "Q8DGhvIZ4JqX"
      }
    },
    {
      "cell_type": "code",
      "source": [
        "np.matmul(q, k.T)"
      ],
      "metadata": {
        "colab": {
          "base_uri": "https://localhost:8080/"
        },
        "id": "j-Y_b7r64DtS",
        "outputId": "0192861a-1e73-45e8-9d15-58402c21ec54"
      },
      "execution_count": 26,
      "outputs": [
        {
          "output_type": "execute_result",
          "data": {
            "text/plain": [
              "array([[ 3.28883808,  0.48982601,  1.33632222,  0.4820941 ],\n",
              "       [ 3.36154911, -1.32232906, -2.01144638, -0.87304188],\n",
              "       [ 4.39418418, -1.00376182,  3.03940548,  1.85317703],\n",
              "       [-4.46303773, -1.22440431,  4.84945995,  2.27474393]])"
            ]
          },
          "metadata": {},
          "execution_count": 26
        }
      ]
    },
    {
      "cell_type": "code",
      "source": [
        "#why do we need the sqrt(d_k) in he denominator\n",
        "q.var(), k.var(), np.matmul(q, k.T).var()"
      ],
      "metadata": {
        "colab": {
          "base_uri": "https://localhost:8080/"
        },
        "id": "yIDMU7zT4aw_",
        "outputId": "4ef6c45a-ddb2-4fd5-b54c-7891c1ca1562"
      },
      "execution_count": 27,
      "outputs": [
        {
          "output_type": "execute_result",
          "data": {
            "text/plain": [
              "(0.8284968390662946, 1.0306241289466467, 6.308769804267942)"
            ]
          },
          "metadata": {},
          "execution_count": 27
        }
      ]
    },
    {
      "cell_type": "code",
      "source": [
        "scaled = np.matmul(q, k.T) / math.sqrt(d_k)\n",
        "q.var(), k.var(), scaled.var()\n"
      ],
      "metadata": {
        "colab": {
          "base_uri": "https://localhost:8080/"
        },
        "id": "k9n0jeiB5DiC",
        "outputId": "152f3f75-0a65-4285-e2e6-7f9fd0bf58f2"
      },
      "execution_count": 28,
      "outputs": [
        {
          "output_type": "execute_result",
          "data": {
            "text/plain": [
              "(0.8284968390662946, 1.0306241289466467, 0.7885962255334926)"
            ]
          },
          "metadata": {},
          "execution_count": 28
        }
      ]
    },
    {
      "cell_type": "code",
      "source": [
        "scaled"
      ],
      "metadata": {
        "colab": {
          "base_uri": "https://localhost:8080/"
        },
        "id": "4598pvvu5dCR",
        "outputId": "2bb5b3f6-26f6-4f64-f08d-35b40a56f7b5"
      },
      "execution_count": 29,
      "outputs": [
        {
          "output_type": "execute_result",
          "data": {
            "text/plain": [
              "array([[ 1.16277985,  0.17317965,  0.47246125,  0.170446  ],\n",
              "       [ 1.18848709, -0.46751392, -0.71115369, -0.30866692],\n",
              "       [ 1.55357872, -0.3548834 ,  1.07459211,  0.65519702],\n",
              "       [-1.57792212, -0.4328923 ,  1.71454301,  0.80424343]])"
            ]
          },
          "metadata": {},
          "execution_count": 29
        }
      ]
    },
    {
      "cell_type": "markdown",
      "source": [
        "#Masking"
      ],
      "metadata": {
        "id": "NthtznYM5pA9"
      }
    },
    {
      "cell_type": "code",
      "source": [
        "mask = np.tril(np.ones((L, L)))\n",
        "mask"
      ],
      "metadata": {
        "colab": {
          "base_uri": "https://localhost:8080/"
        },
        "id": "PV2gJv-u5jem",
        "outputId": "ef950101-d576-4582-ed7b-fe471edb2494"
      },
      "execution_count": 30,
      "outputs": [
        {
          "output_type": "execute_result",
          "data": {
            "text/plain": [
              "array([[1., 0., 0., 0.],\n",
              "       [1., 1., 0., 0.],\n",
              "       [1., 1., 1., 0.],\n",
              "       [1., 1., 1., 1.]])"
            ]
          },
          "metadata": {},
          "execution_count": 30
        }
      ]
    },
    {
      "cell_type": "code",
      "source": [
        "mask[mask == 0] = -np.infty\n",
        "mask[mask == 1] = 0"
      ],
      "metadata": {
        "id": "p1VtHqns6LHA"
      },
      "execution_count": 31,
      "outputs": []
    },
    {
      "cell_type": "code",
      "source": [
        "mask"
      ],
      "metadata": {
        "colab": {
          "base_uri": "https://localhost:8080/"
        },
        "id": "5Xpsaz6e6kLM",
        "outputId": "d127db5f-8be2-48b8-f52c-118702d4c88c"
      },
      "execution_count": 32,
      "outputs": [
        {
          "output_type": "execute_result",
          "data": {
            "text/plain": [
              "array([[  0., -inf, -inf, -inf],\n",
              "       [  0.,   0., -inf, -inf],\n",
              "       [  0.,   0.,   0., -inf],\n",
              "       [  0.,   0.,   0.,   0.]])"
            ]
          },
          "metadata": {},
          "execution_count": 32
        }
      ]
    },
    {
      "cell_type": "code",
      "source": [
        "scaled + mask"
      ],
      "metadata": {
        "colab": {
          "base_uri": "https://localhost:8080/"
        },
        "id": "_aMgqTB86ktg",
        "outputId": "ccbc24ea-b606-4f10-e97b-2652ec23b175"
      },
      "execution_count": 33,
      "outputs": [
        {
          "output_type": "execute_result",
          "data": {
            "text/plain": [
              "array([[ 1.16277985,        -inf,        -inf,        -inf],\n",
              "       [ 1.18848709, -0.46751392,        -inf,        -inf],\n",
              "       [ 1.55357872, -0.3548834 ,  1.07459211,        -inf],\n",
              "       [-1.57792212, -0.4328923 ,  1.71454301,  0.80424343]])"
            ]
          },
          "metadata": {},
          "execution_count": 33
        }
      ]
    },
    {
      "cell_type": "markdown",
      "source": [
        "#Softmax"
      ],
      "metadata": {
        "id": "VbMUyTdM6xsg"
      }
    },
    {
      "cell_type": "code",
      "source": [
        "def softmax(x):\n",
        "  return (np.exp(x).T / np.sum(np.exp(x), axis=-1)).T"
      ],
      "metadata": {
        "id": "O7DNKS4In_ss"
      },
      "execution_count": 45,
      "outputs": []
    },
    {
      "cell_type": "code",
      "source": [
        "attention = softmax(scaled + mask)"
      ],
      "metadata": {
        "id": "lI8138sUm-br"
      },
      "execution_count": 46,
      "outputs": []
    },
    {
      "cell_type": "code",
      "source": [
        "attention"
      ],
      "metadata": {
        "colab": {
          "base_uri": "https://localhost:8080/"
        },
        "id": "UYWkd5jYnEhf",
        "outputId": "41cda94c-ffbe-46f4-c52c-43a05cbb4bc7"
      },
      "execution_count": 47,
      "outputs": [
        {
          "output_type": "execute_result",
          "data": {
            "text/plain": [
              "array([[1.        , 0.        , 0.        , 0.        ],\n",
              "       [0.83970046, 0.16029954, 0.        , 0.        ],\n",
              "       [0.56570075, 0.08389811, 0.35040114, 0.        ],\n",
              "       [0.02387776, 0.07503669, 0.64252938, 0.25855617]])"
            ]
          },
          "metadata": {},
          "execution_count": 47
        }
      ]
    },
    {
      "cell_type": "code",
      "source": [
        "new_v = np.matmul(attention, v)\n",
        "new_v"
      ],
      "metadata": {
        "colab": {
          "base_uri": "https://localhost:8080/"
        },
        "id": "pgBD5XmHnGSA",
        "outputId": "7615eb1c-7e79-40c3-d3de-4521e41676a3"
      },
      "execution_count": 51,
      "outputs": [
        {
          "output_type": "execute_result",
          "data": {
            "text/plain": [
              "array([[-1.21830369, -1.9244519 , -0.17813956,  0.1238206 ,  0.99814184,\n",
              "         0.43866518,  0.023729  , -0.67082976],\n",
              "       [-0.93458494, -1.66200609, -0.03419924,  0.15793951,  0.86992568,\n",
              "         0.12683013, -0.00846391, -0.41481851],\n",
              "       [-0.88667574, -1.26400542, -0.12423146,  0.2284335 ,  0.81091651,\n",
              "         0.22544575,  0.59164703, -1.0658907 ],\n",
              "       [-0.57666853, -0.77402159,  0.13537193, -0.11793143,  0.57828824,\n",
              "         0.21365852,  1.50002071, -0.91533911]])"
            ]
          },
          "metadata": {},
          "execution_count": 51
        }
      ]
    },
    {
      "cell_type": "code",
      "source": [
        "v"
      ],
      "metadata": {
        "colab": {
          "base_uri": "https://localhost:8080/"
        },
        "id": "PrA8JQuwnUMG",
        "outputId": "01a5915f-68f4-49d5-dcd6-cf7d0ef58646"
      },
      "execution_count": 52,
      "outputs": [
        {
          "output_type": "execute_result",
          "data": {
            "text/plain": [
              "array([[-1.21830369, -1.9244519 , -0.17813956,  0.1238206 ,  0.99814184,\n",
              "         0.43866518,  0.023729  , -0.67082976],\n",
              "       [ 0.55162491, -0.28723073,  0.71980635,  0.33666532,  0.19828825,\n",
              "        -1.50666192, -0.17710069,  0.92625059],\n",
              "       [-0.69566188, -0.43162938, -0.23929193,  0.37141007,  0.65533725,\n",
              "         0.29594258,  1.6925799 , -2.18067921],\n",
              "       [-0.54915374, -1.65992012,  0.92577837, -1.48823415,  0.45832411,\n",
              "         0.48765926,  1.64455891,  1.67207951]])"
            ]
          },
          "metadata": {},
          "execution_count": 52
        }
      ]
    },
    {
      "cell_type": "code",
      "source": [
        "def softmax(x):\n",
        "  return (np.exp(x).T / np.sum(np.exp(x), axis=-1)).T\n",
        "\n",
        "def scaled_dot_product_attention(q, k, v, mask=None):\n",
        "  d_k =q.shape[-1]\n",
        "  scaled = np.matmul(q, k.T) / math.sqrt(d_k)\n",
        "  if mask is not None:\n",
        "    scaled = scaled + mask\n",
        "    attention = softmax(scaled)\n",
        "    out = np.matmul(attention, v)\n",
        "    return out, attention"
      ],
      "metadata": {
        "id": "2BBG_DkB6mY4"
      },
      "execution_count": 53,
      "outputs": []
    },
    {
      "cell_type": "code",
      "source": [
        "values, attention = scaled_dot_product_attention(q, k, v, mask=mask)\n",
        "print(\"Q\\n\", q)\n",
        "print(\"K\\n\", k)\n",
        "print(\"V\\n\", v)\n",
        "print(\"New V\\n\", values)\n",
        "print(\"Attention\\n\", attention)"
      ],
      "metadata": {
        "colab": {
          "base_uri": "https://localhost:8080/"
        },
        "id": "tKMVKMPlltx_",
        "outputId": "6c8f7b04-2c1c-4fe0-92de-968c67a1c133"
      },
      "execution_count": 55,
      "outputs": [
        {
          "output_type": "stream",
          "name": "stdout",
          "text": [
            "Q\n",
            " [[-0.0331857   2.06896505 -0.11488886  0.88116544  0.11719453  1.33834359\n",
            "   0.02257637  1.16781053]\n",
            " [-0.30329635 -1.07928697  1.37743666 -0.42731295 -1.63323351  0.42569583\n",
            "   0.80718759 -0.41248306]\n",
            " [-0.46543505  0.29416147  0.67930279  0.54110615 -1.52135385 -0.00423845\n",
            "  -0.7653162   1.35744534]\n",
            " [-1.01328392 -0.11631818  0.14606273 -0.53768603  0.9199883  -1.29632442\n",
            "   0.83848266  1.2300858 ]]\n",
            "K\n",
            " [[-1.74445624e+00  5.01438036e-01  1.37156200e+00  1.18732476e+00\n",
            "  -1.24336869e+00  1.82895126e+00 -1.43497565e+00 -8.26174852e-01]\n",
            " [-7.63499000e-01  1.32199944e-01 -1.41747891e+00 -6.90487346e-01\n",
            "  -7.74263859e-02  8.61092061e-01 -5.22362621e-01 -4.23884940e-01]\n",
            " [-6.48913917e-01  1.02524546e+00 -1.29468132e+00  2.14224226e-01\n",
            "  -1.05157958e+00 -2.20927995e+00  8.34204911e-01  1.64175674e+00]\n",
            " [ 8.47225239e-02 -2.01615668e-03  3.97779898e-01  3.03064464e-01\n",
            "   1.72678590e-01 -8.16785022e-01 -2.02026247e-01  1.15189116e+00]]\n",
            "V\n",
            " [[-1.21830369 -1.9244519  -0.17813956  0.1238206   0.99814184  0.43866518\n",
            "   0.023729   -0.67082976]\n",
            " [ 0.55162491 -0.28723073  0.71980635  0.33666532  0.19828825 -1.50666192\n",
            "  -0.17710069  0.92625059]\n",
            " [-0.69566188 -0.43162938 -0.23929193  0.37141007  0.65533725  0.29594258\n",
            "   1.6925799  -2.18067921]\n",
            " [-0.54915374 -1.65992012  0.92577837 -1.48823415  0.45832411  0.48765926\n",
            "   1.64455891  1.67207951]]\n",
            "New V\n",
            " [[-1.21830369 -1.9244519  -0.17813956  0.1238206   0.99814184  0.43866518\n",
            "   0.023729   -0.67082976]\n",
            " [-0.93458494 -1.66200609 -0.03419924  0.15793951  0.86992568  0.12683013\n",
            "  -0.00846391 -0.41481851]\n",
            " [-0.88667574 -1.26400542 -0.12423146  0.2284335   0.81091651  0.22544575\n",
            "   0.59164703 -1.0658907 ]\n",
            " [-0.57666853 -0.77402159  0.13537193 -0.11793143  0.57828824  0.21365852\n",
            "   1.50002071 -0.91533911]]\n",
            "Attention\n",
            " [[1.         0.         0.         0.        ]\n",
            " [0.83970046 0.16029954 0.         0.        ]\n",
            " [0.56570075 0.08389811 0.35040114 0.        ]\n",
            " [0.02387776 0.07503669 0.64252938 0.25855617]]\n"
          ]
        }
      ]
    }
  ]
}