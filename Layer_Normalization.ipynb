{
  "nbformat": 4,
  "nbformat_minor": 0,
  "metadata": {
    "colab": {
      "provenance": [],
      "authorship_tag": "ABX9TyMgbMANScQlr8NhCeeXhBDn",
      "include_colab_link": true
    },
    "kernelspec": {
      "name": "python3",
      "display_name": "Python 3"
    },
    "language_info": {
      "name": "python"
    }
  },
  "cells": [
    {
      "cell_type": "markdown",
      "metadata": {
        "id": "view-in-github",
        "colab_type": "text"
      },
      "source": [
        "<a href=\"https://colab.research.google.com/github/ayushksingh28/transformers_scratch/blob/main/Layer_Normalization.ipynb\" target=\"_parent\"><img src=\"https://colab.research.google.com/assets/colab-badge.svg\" alt=\"Open In Colab\"/></a>"
      ]
    },
    {
      "cell_type": "code",
      "execution_count": null,
      "metadata": {
        "id": "RNzt2pncU9nK"
      },
      "outputs": [],
      "source": [
        "import torch\n",
        "from torch import nn"
      ]
    },
    {
      "cell_type": "code",
      "source": [
        "inputs = torch.Tensor([[[0.2, 0.1, 0.3], [0.5, 0.1, 0.1]]])\n",
        "B, S, E = inputs.size()\n",
        "inputs = inputs.reshape(S, B, E)\n",
        "inputs.size()"
      ],
      "metadata": {
        "colab": {
          "base_uri": "https://localhost:8080/"
        },
        "id": "tLtkjuEbV1WV",
        "outputId": "e2e765dc-adcd-4a78-8acf-40b7bc4cb4c6"
      },
      "execution_count": null,
      "outputs": [
        {
          "output_type": "execute_result",
          "data": {
            "text/plain": [
              "torch.Size([2, 1, 3])"
            ]
          },
          "metadata": {},
          "execution_count": 2
        }
      ]
    },
    {
      "cell_type": "code",
      "source": [
        "parameter_shape = inputs.size()[-2:]\n",
        "gamma = nn.Parameter(torch.ones(parameter_shape))\n",
        "beta =  nn.Parameter(torch.zeros(parameter_shape))"
      ],
      "metadata": {
        "id": "vHoN5JqIV39V"
      },
      "execution_count": null,
      "outputs": []
    },
    {
      "cell_type": "code",
      "source": [
        "gamma.size(), beta.size()"
      ],
      "metadata": {
        "colab": {
          "base_uri": "https://localhost:8080/"
        },
        "id": "TvXDDTPNV7fO",
        "outputId": "a9b3470c-292f-4358-dffd-9f9f604bb01b"
      },
      "execution_count": null,
      "outputs": [
        {
          "output_type": "execute_result",
          "data": {
            "text/plain": [
              "(torch.Size([1, 3]), torch.Size([1, 3]))"
            ]
          },
          "metadata": {},
          "execution_count": 4
        }
      ]
    },
    {
      "cell_type": "code",
      "source": [
        "dims = [-(i + 1) for i in range(len(parameter_shape))]"
      ],
      "metadata": {
        "id": "CVlqBYvKV9zd"
      },
      "execution_count": null,
      "outputs": []
    },
    {
      "cell_type": "code",
      "source": [
        "dims"
      ],
      "metadata": {
        "colab": {
          "base_uri": "https://localhost:8080/"
        },
        "id": "eWVAIpvTWANV",
        "outputId": "7c4093c3-6700-4f7d-9e90-4478bcff97d4"
      },
      "execution_count": null,
      "outputs": [
        {
          "output_type": "execute_result",
          "data": {
            "text/plain": [
              "[-1, -2]"
            ]
          },
          "metadata": {},
          "execution_count": 6
        }
      ]
    },
    {
      "cell_type": "code",
      "source": [
        "mean = inputs.mean(dim=dims, keepdim=True)\n",
        "mean.size()"
      ],
      "metadata": {
        "colab": {
          "base_uri": "https://localhost:8080/"
        },
        "id": "kH08Ze-HWCai",
        "outputId": "aa9a13f6-f345-4e29-86c3-5a5dbfdee3f9"
      },
      "execution_count": null,
      "outputs": [
        {
          "output_type": "execute_result",
          "data": {
            "text/plain": [
              "torch.Size([2, 1, 1])"
            ]
          },
          "metadata": {},
          "execution_count": 7
        }
      ]
    },
    {
      "cell_type": "code",
      "source": [
        "mean"
      ],
      "metadata": {
        "colab": {
          "base_uri": "https://localhost:8080/"
        },
        "id": "fnBaSgIbWE5Q",
        "outputId": "11137012-6221-4209-b259-10adfaac09f7"
      },
      "execution_count": null,
      "outputs": [
        {
          "output_type": "execute_result",
          "data": {
            "text/plain": [
              "tensor([[[0.2000]],\n",
              "\n",
              "        [[0.2333]]])"
            ]
          },
          "metadata": {},
          "execution_count": 8
        }
      ]
    },
    {
      "cell_type": "code",
      "source": [
        "var = ((inputs - mean) ** 2).mean(dim=dims, keepdim=True)\n",
        "epsilon = 1e-5\n",
        "std = (var + epsilon).sqrt()\n",
        "std"
      ],
      "metadata": {
        "colab": {
          "base_uri": "https://localhost:8080/"
        },
        "id": "qinwXA_lWI7o",
        "outputId": "d7971697-41db-4bc6-dd77-5ad284268f01"
      },
      "execution_count": null,
      "outputs": [
        {
          "output_type": "execute_result",
          "data": {
            "text/plain": [
              "tensor([[[0.0817]],\n",
              "\n",
              "        [[0.1886]]])"
            ]
          },
          "metadata": {},
          "execution_count": 9
        }
      ]
    },
    {
      "cell_type": "code",
      "source": [
        "y = (inputs - mean) / std\n",
        "y"
      ],
      "metadata": {
        "colab": {
          "base_uri": "https://localhost:8080/"
        },
        "id": "1khG8s24WLU1",
        "outputId": "d3faea55-b06d-48fe-ffa2-b4db0532dc27"
      },
      "execution_count": null,
      "outputs": [
        {
          "output_type": "execute_result",
          "data": {
            "text/plain": [
              "tensor([[[ 0.0000, -1.2238,  1.2238]],\n",
              "\n",
              "        [[ 1.4140, -0.7070, -0.7070]]])"
            ]
          },
          "metadata": {},
          "execution_count": 10
        }
      ]
    },
    {
      "cell_type": "code",
      "source": [
        "out = gamma * y + beta"
      ],
      "metadata": {
        "id": "m9NbBVvqWN9q"
      },
      "execution_count": null,
      "outputs": []
    },
    {
      "cell_type": "code",
      "source": [
        "out"
      ],
      "metadata": {
        "colab": {
          "base_uri": "https://localhost:8080/"
        },
        "id": "cEVlDWlBWQXv",
        "outputId": "bbc00476-2e79-486e-8f5c-309a5063da7c"
      },
      "execution_count": null,
      "outputs": [
        {
          "output_type": "execute_result",
          "data": {
            "text/plain": [
              "tensor([[[ 0.0000, -1.2238,  1.2238]],\n",
              "\n",
              "        [[ 1.4140, -0.7070, -0.7070]]], grad_fn=<AddBackward0>)"
            ]
          },
          "metadata": {},
          "execution_count": 12
        }
      ]
    },
    {
      "cell_type": "markdown",
      "source": [
        "#Class"
      ],
      "metadata": {
        "id": "q8TzW10bWTyS"
      }
    },
    {
      "cell_type": "code",
      "source": [
        "import torch\n",
        "from torch import nn\n",
        "\n",
        "class LayerNormalization():\n",
        "    def __init__(self, parameters_shape, eps=1e-5):\n",
        "        self.parameters_shape=parameters_shape\n",
        "        self.eps=eps\n",
        "        self.gamma = nn.Parameter(torch.ones(parameters_shape))\n",
        "        self.beta =  nn.Parameter(torch.zeros(parameters_shape))\n",
        "\n",
        "    def forward(self, input):\n",
        "        dims = [-(i + 1) for i in range(len(self.parameters_shape))]\n",
        "        mean = inputs.mean(dim=dims, keepdim=True)\n",
        "        print(f\"Mean \\n ({mean.size()}): \\n {mean}\")\n",
        "        var = ((inputs - mean) ** 2).mean(dim=dims, keepdim=True)\n",
        "        std = (var + self.eps).sqrt()\n",
        "        print(f\"Standard Deviation \\n ({std.size()}): \\n {std}\")\n",
        "        y = (inputs - mean) / std\n",
        "        print(f\"y \\n ({y.size()}) = \\n {y}\")\n",
        "        out = self.gamma * y  + self.beta\n",
        "        print(f\"out \\n ({out.size()}) = \\n {out}\")\n",
        "        return out"
      ],
      "metadata": {
        "id": "ZGDBgDVWWSNd"
      },
      "execution_count": null,
      "outputs": []
    },
    {
      "cell_type": "code",
      "source": [
        "batch_size = 3\n",
        "sentence_length = 5\n",
        "embedding_dim = 8\n",
        "inputs = torch.randn(sentence_length, batch_size, embedding_dim)\n",
        "\n",
        "print(f\"input \\n ({inputs.size()}) = \\n {inputs}\")"
      ],
      "metadata": {
        "colab": {
          "base_uri": "https://localhost:8080/"
        },
        "id": "W4HWuV7_WX7D",
        "outputId": "10e1eac3-3df7-4510-94e2-ee6a8b017704"
      },
      "execution_count": null,
      "outputs": [
        {
          "output_type": "stream",
          "name": "stdout",
          "text": [
            "input \n",
            " (torch.Size([5, 3, 8])) = \n",
            " tensor([[[-0.5132, -0.9555, -0.3850,  1.4630, -0.0091,  1.3365,  0.7020,\n",
            "           1.2015],\n",
            "         [ 1.0270,  1.4306, -3.1770, -0.0610,  3.5120, -1.4810, -0.5528,\n",
            "          -1.5328],\n",
            "         [-2.0176,  0.4930, -0.2202,  0.9158,  0.6347, -1.1098,  1.5739,\n",
            "           1.1471]],\n",
            "\n",
            "        [[-0.4023,  0.8491,  1.5738, -1.0746,  0.7685, -0.9458,  0.6143,\n",
            "          -0.1341],\n",
            "         [-1.3037,  0.2526,  0.0357,  0.1983,  0.1162,  0.0347,  0.0358,\n",
            "          -0.3344],\n",
            "         [ 0.0660,  0.3007, -0.2052,  2.9540,  0.1326,  0.5147,  0.8439,\n",
            "          -0.5573]],\n",
            "\n",
            "        [[ 1.1804,  0.4248,  1.4208,  2.0492, -0.7309,  1.6413, -1.2175,\n",
            "           0.8234],\n",
            "         [ 0.3516,  1.0422,  0.4247,  0.3434, -0.2263, -2.0540, -0.0428,\n",
            "           0.1775],\n",
            "         [ 0.0206,  0.6769, -0.2768, -1.3291,  0.2528, -1.1714,  0.6798,\n",
            "           1.0746]],\n",
            "\n",
            "        [[ 1.2992,  0.7476, -0.3813,  1.2765, -0.1336,  0.1039, -1.4050,\n",
            "          -0.7291],\n",
            "         [-0.1854, -0.0963, -0.2330,  0.3508,  0.3375, -0.6814, -0.8372,\n",
            "           1.0987],\n",
            "         [-1.2268, -1.4040,  0.3260, -0.2608, -0.5399,  0.8606, -1.1706,\n",
            "          -0.4820]],\n",
            "\n",
            "        [[-0.5093, -0.6839,  1.0470, -0.8849,  0.9486, -0.0352, -0.6054,\n",
            "          -1.4336],\n",
            "         [ 0.4476,  0.2477, -1.0357,  2.1434,  0.8528, -0.1568,  0.0760,\n",
            "           0.7995],\n",
            "         [ 0.0590,  1.5137, -0.3985,  0.2261,  0.8958, -0.4250, -1.2852,\n",
            "          -0.4418]]])\n"
          ]
        }
      ]
    },
    {
      "cell_type": "code",
      "source": [
        "layer_norm = LayerNormalization(inputs.size()[-1:])"
      ],
      "metadata": {
        "id": "97T3VH8cW-uz"
      },
      "execution_count": null,
      "outputs": []
    },
    {
      "cell_type": "code",
      "source": [
        "out = layer_norm.forward(inputs)"
      ],
      "metadata": {
        "id": "Ll9ro6WVXB0l",
        "outputId": "12716269-3d88-4d81-f929-638c35237999",
        "colab": {
          "base_uri": "https://localhost:8080/"
        }
      },
      "execution_count": null,
      "outputs": [
        {
          "output_type": "stream",
          "name": "stdout",
          "text": [
            "Mean \n",
            " (torch.Size([5, 3, 1])): \n",
            " tensor([[[ 0.3550],\n",
            "         [-0.1044],\n",
            "         [ 0.1771]],\n",
            "\n",
            "        [[ 0.1561],\n",
            "         [-0.1206],\n",
            "         [ 0.5062]],\n",
            "\n",
            "        [[ 0.6989],\n",
            "         [ 0.0020],\n",
            "         [-0.0091]],\n",
            "\n",
            "        [[ 0.0973],\n",
            "         [-0.0308],\n",
            "         [-0.4872]],\n",
            "\n",
            "        [[-0.2696],\n",
            "         [ 0.4218],\n",
            "         [ 0.0180]]])\n",
            "Standard Deviation \n",
            " (torch.Size([5, 3, 1])): \n",
            " tensor([[[0.8789],\n",
            "         [1.9460],\n",
            "         [1.1390]],\n",
            "\n",
            "        [[0.8803],\n",
            "         [0.4764],\n",
            "         [1.0074]],\n",
            "\n",
            "        [[1.0766],\n",
            "         [0.8523],\n",
            "         [0.8181]],\n",
            "\n",
            "        [[0.9000],\n",
            "         [0.5809],\n",
            "         [0.7405]],\n",
            "\n",
            "        [[0.8176],\n",
            "         [0.8589],\n",
            "         [0.8164]]])\n",
            "y \n",
            " (torch.Size([5, 3, 8])) = \n",
            " tensor([[[-0.9879, -1.4912, -0.8420,  1.2606, -0.4143,  1.1167,  0.3948,\n",
            "           0.9632],\n",
            "         [ 0.5814,  0.7888, -1.5790,  0.0223,  1.8584, -0.7074, -0.2304,\n",
            "          -0.7341],\n",
            "         [-1.9269,  0.2774, -0.3489,  0.6485,  0.4018, -1.1299,  1.2264,\n",
            "           0.8517]],\n",
            "\n",
            "        [[-0.6343,  0.7872,  1.6103, -1.3980,  0.6957, -1.2517,  0.5205,\n",
            "          -0.3297],\n",
            "         [-2.4835,  0.7834,  0.3281,  0.6693,  0.4970,  0.3260,  0.3284,\n",
            "          -0.4489],\n",
            "         [-0.4370, -0.2040, -0.7061,  2.4299, -0.3709,  0.0085,  0.3353,\n",
            "          -1.0557]],\n",
            "\n",
            "        [[ 0.4473, -0.2546,  0.6705,  1.2542, -1.3282,  0.8753, -1.7801,\n",
            "           0.1156],\n",
            "         [ 0.4101,  1.2205,  0.4959,  0.4005, -0.2679, -2.4122, -0.0526,\n",
            "           0.2058],\n",
            "         [ 0.0362,  0.8385, -0.3272, -1.6136,  0.3201, -1.4208,  0.8420,\n",
            "           1.3247]],\n",
            "\n",
            "        [[ 1.3355,  0.7226, -0.5317,  1.3102, -0.2566,  0.0074, -1.6691,\n",
            "          -0.9182],\n",
            "         [-0.2662, -0.1128, -0.3481,  0.6570,  0.6340, -1.1199, -1.3882,\n",
            "           1.9443],\n",
            "         [-0.9988, -1.2381,  1.0982,  0.3057, -0.0712,  1.8201, -0.9230,\n",
            "           0.0070]],\n",
            "\n",
            "        [[-0.2932, -0.5067,  1.6103, -0.7525,  1.4900,  0.2867, -0.4107,\n",
            "          -1.4237],\n",
            "         [ 0.0301, -0.2027, -1.6969,  2.0043,  0.5018, -0.6737, -0.4026,\n",
            "           0.4397],\n",
            "         [ 0.0503,  1.8320, -0.5102,  0.2549,  1.0752, -0.5427, -1.5962,\n",
            "          -0.5633]]])\n",
            "out \n",
            " (torch.Size([5, 3, 8])) = \n",
            " tensor([[[-0.9879, -1.4912, -0.8420,  1.2606, -0.4143,  1.1167,  0.3948,\n",
            "           0.9632],\n",
            "         [ 0.5814,  0.7888, -1.5790,  0.0223,  1.8584, -0.7074, -0.2304,\n",
            "          -0.7341],\n",
            "         [-1.9269,  0.2774, -0.3489,  0.6485,  0.4018, -1.1299,  1.2264,\n",
            "           0.8517]],\n",
            "\n",
            "        [[-0.6343,  0.7872,  1.6103, -1.3980,  0.6957, -1.2517,  0.5205,\n",
            "          -0.3297],\n",
            "         [-2.4835,  0.7834,  0.3281,  0.6693,  0.4970,  0.3260,  0.3284,\n",
            "          -0.4489],\n",
            "         [-0.4370, -0.2040, -0.7061,  2.4299, -0.3709,  0.0085,  0.3353,\n",
            "          -1.0557]],\n",
            "\n",
            "        [[ 0.4473, -0.2546,  0.6705,  1.2542, -1.3282,  0.8753, -1.7801,\n",
            "           0.1156],\n",
            "         [ 0.4101,  1.2205,  0.4959,  0.4005, -0.2679, -2.4122, -0.0526,\n",
            "           0.2058],\n",
            "         [ 0.0362,  0.8385, -0.3272, -1.6136,  0.3201, -1.4208,  0.8420,\n",
            "           1.3247]],\n",
            "\n",
            "        [[ 1.3355,  0.7226, -0.5317,  1.3102, -0.2566,  0.0074, -1.6691,\n",
            "          -0.9182],\n",
            "         [-0.2662, -0.1128, -0.3481,  0.6570,  0.6340, -1.1199, -1.3882,\n",
            "           1.9443],\n",
            "         [-0.9988, -1.2381,  1.0982,  0.3057, -0.0712,  1.8201, -0.9230,\n",
            "           0.0070]],\n",
            "\n",
            "        [[-0.2932, -0.5067,  1.6103, -0.7525,  1.4900,  0.2867, -0.4107,\n",
            "          -1.4237],\n",
            "         [ 0.0301, -0.2027, -1.6969,  2.0043,  0.5018, -0.6737, -0.4026,\n",
            "           0.4397],\n",
            "         [ 0.0503,  1.8320, -0.5102,  0.2549,  1.0752, -0.5427, -1.5962,\n",
            "          -0.5633]]], grad_fn=<AddBackward0>)\n"
          ]
        }
      ]
    },
    {
      "cell_type": "code",
      "source": [],
      "metadata": {
        "id": "-hcGK9_jXEJq"
      },
      "execution_count": null,
      "outputs": []
    }
  ]
}